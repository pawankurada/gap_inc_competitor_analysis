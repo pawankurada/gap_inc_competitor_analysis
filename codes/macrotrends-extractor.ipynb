{
 "cells": [
  {
   "cell_type": "code",
   "execution_count": 1,
   "id": "db2c40d1",
   "metadata": {},
   "outputs": [],
   "source": [
    "import os\n",
    "import re\n",
    "import pandas as pd\n",
    "import numpy as np\n",
    "import time\n",
    "import random\n",
    "from tqdm import tqdm\n",
    "import urllib.request, urllib.error, urllib.parse \n",
    "import requests"
   ]
  },
  {
   "cell_type": "code",
   "execution_count": 2,
   "id": "1eef6726",
   "metadata": {},
   "outputs": [],
   "source": [
    "headers_list = [\n",
    "    # Firefox 77 Mac\n",
    "    {\n",
    "    \"User-Agent\": \"Mozilla/5.0 (Macintosh; Intel Mac OS X 10.15; rv:77.0) Gecko/20100101 Firefox/77.0\",\n",
    "    \"Accept\": \"text/html,application/xhtml+xml,application/xml;q=0.9,image/webp,*/*;q=0.8\",\n",
    "    \"Accept-Language\": \"en-US,en;q=0.5\",\n",
    "    \"Referer\": \"https://www.google.com/\",\n",
    "    \"DNT\": \"1\",\n",
    "    \"Connection\": \"keep-alive\",\n",
    "    \"Upgrade-Insecure-Requests\": \"1\"\n",
    "    },\n",
    "    # Chrome 92.0 Win10\n",
    "    {\n",
    "    \"User-Agent\": \"Mozilla/5.0 (Windows NT 10.0; Win64; x64) AppleWebKit/537.36 (KHTML, like Gecko) Chrome/92.0.4515.107 Safari/537.36\",\n",
    "    \"Accept\": \"text/html,application/xhtml+xml,application/xml;q=0.9,image/webp,*/*;q=0.8\",\n",
    "    \"Accept-Language\": \"en-US,en;q=0.5\",\n",
    "    \"Accept-Encoding\": \"gzip, deflate, br\",\n",
    "    \"Referer\": \"https://www.google.com/\",\n",
    "    \"DNT\": \"1\",\n",
    "    \"Connection\": \"keep-alive\",\n",
    "    \"Upgrade-Insecure-Requests\": \"1\"\n",
    "    },\n",
    "    # Chrome 91.0 Win10\n",
    "    {\n",
    "    \"Connection\": \"keep-alive\",\n",
    "    \"DNT\": \"1\",\n",
    "    \"Upgrade-Insecure-Requests\": \"1\",\n",
    "    \"User-Agent\": \"Mozilla/5.0 (Windows NT 10.0; Win64; x64) AppleWebKit/537.36 (KHTML, like Gecko) Chrome/91.0.4472.124 Safari/537.36\",\n",
    "    \"Accept\": \"text/html,application/xhtml+xml,application/xml;q=0.9,image/webp,image/apng,*/*;q=0.8,application/signed-exchange;v=b3;q=0.9\",\n",
    "    \"Sec-Fetch-Site\": \"none\",\n",
    "    \"Sec-Fetch-Mode\": \"navigate\",\n",
    "    \"Sec-Fetch-Dest\": \"document\",\n",
    "    \"Referer\": \"https://www.google.com/\",\n",
    "    \"Accept-Encoding\": \"gzip, deflate, br\",\n",
    "    \"Accept-Language\": \"en-GB,en-US;q=0.9,en;q=0.8\"\n",
    "    },\n",
    "    # Firefox 90.0 Win10\n",
    "    {\n",
    "    \"Connection\": \"keep-alive\",\n",
    "    \"Upgrade-Insecure-Requests\": \"1\",\n",
    "    \"User-Agent\": \"Mozilla/5.0 (Windows NT 10.0; Win64; x64; rv:90.0) Gecko/20100101 Firefox/90.0\",\n",
    "    \"Accept\": \"text/html,application/xhtml+xml,application/xml;q=0.9,image/webp,image/apng,*/*;q=0.8,application/signed-exchange;v=b3;q=0.9\",\n",
    "    \"Sec-Fetch-Site\": \"same-origin\",\n",
    "    \"Sec-Fetch-Mode\": \"navigate\",\n",
    "    \"Sec-Fetch-User\": \"?1\",\n",
    "    \"Sec-Fetch-Dest\": \"document\",\n",
    "    \"Referer\": \"https://www.google.com/\",\n",
    "    \"Accept-Encoding\": \"gzip, deflate, br\",\n",
    "    \"Accept-Language\": \"en-US,en;q=0.9\"\n",
    "    }\n",
    "]"
   ]
  },
  {
   "cell_type": "code",
   "execution_count": 3,
   "id": "1f1333bb",
   "metadata": {},
   "outputs": [],
   "source": [
    "def get_year_quarter(dates):\n",
    "    year_quarters =[]\n",
    "    for date in dates:\n",
    "        year_quarter = \"Q{}-{}\".format(date.quarter,date.year)\n",
    "        year_quarters.append(year_quarter)\n",
    "    return year_quarters"
   ]
  },
  {
   "cell_type": "code",
   "execution_count": 4,
   "id": "b3a0b2b3",
   "metadata": {},
   "outputs": [],
   "source": [
    "levis_url = 'https://www.macrotrends.net/stocks/charts/LEVI/levi-strauss/{}'\n",
    "r = requests.Session()\n",
    "headers = random.choice(headers_list)\n",
    "r.headers = headers\n",
    "profit_url = levis_url.format('gross-profit')\n",
    "html = r.get(profit_url).text\n",
    "dfs = pd.read_html(html)\n",
    "df_profit_levis = dfs[1]\n",
    "revenue_url = levis_url.format('revenue')\n",
    "html = r.get(revenue_url).text\n",
    "dfs = pd.read_html(html)\n",
    "df_revenue_levis = dfs[1]"
   ]
  },
  {
   "cell_type": "code",
   "execution_count": 5,
   "id": "b017d939",
   "metadata": {},
   "outputs": [],
   "source": [
    "gap_url = 'https://www.macrotrends.net/stocks/charts/GPS/gap/{}'\n",
    "r = requests.Session()\n",
    "headers = random.choice(headers_list)\n",
    "r.headers = headers\n",
    "profit_url = gap_url.format('gross-profit')\n",
    "html = r.get(profit_url).text\n",
    "dfs = pd.read_html(html)\n",
    "df_profit_gap = dfs[1]\n",
    "revenue_url = gap_url.format('revenue')\n",
    "html = r.get(revenue_url).text\n",
    "dfs = pd.read_html(html)\n",
    "df_revenue_gap = dfs[1]"
   ]
  },
  {
   "cell_type": "code",
   "execution_count": 6,
   "id": "d9768e25",
   "metadata": {
    "scrolled": true
   },
   "outputs": [],
   "source": [
    "df_profit_gap.columns = ['Date', 'Profit (in millions)']\n",
    "df_revenue_gap.columns = ['Date', 'Revenue (in millions)']\n",
    "df_profit_levis.columns = ['Date', 'Profit (in millions)']\n",
    "df_revenue_levis.columns = ['Date', 'Revenue (in millions)']\n"
   ]
  },
  {
   "cell_type": "code",
   "execution_count": 7,
   "id": "8ea833fc",
   "metadata": {},
   "outputs": [],
   "source": [
    "df_profit_gap['Date'] = pd.to_datetime(df_profit_gap['Date'])\n",
    "df_revenue_gap['Date'] = pd.to_datetime(df_revenue_gap['Date'])\n",
    "df_profit_levis['Date'] = pd.to_datetime(df_profit_levis['Date'])\n",
    "df_revenue_levis['Date'] = pd.to_datetime(df_revenue_levis['Date'])"
   ]
  },
  {
   "cell_type": "code",
   "execution_count": 8,
   "id": "bdb6e07e",
   "metadata": {},
   "outputs": [],
   "source": [
    "dates = df_profit_gap['Date']\n",
    "year_quarters = get_year_quarter(dates)\n",
    "df_profit_gap['Year Quarter'] = year_quarters\n",
    "\n",
    "dates = df_revenue_gap['Date']\n",
    "year_quarters = get_year_quarter(dates)\n",
    "df_revenue_gap['Year Quarter'] = year_quarters\n",
    "\n",
    "dates = df_profit_levis['Date']\n",
    "year_quarters = get_year_quarter(dates)\n",
    "df_profit_levis['Year Quarter'] = year_quarters\n",
    "\n",
    "dates = df_revenue_levis['Date']\n",
    "year_quarters = get_year_quarter(dates)\n",
    "df_revenue_levis['Year Quarter'] = year_quarters"
   ]
  },
  {
   "cell_type": "code",
   "execution_count": 13,
   "id": "3b0425f8",
   "metadata": {},
   "outputs": [],
   "source": [
    "df_gap = df_profit_gap.merge(df_revenue_gap, how='inner', left_on=[\"Date\", \"Year Quarter\"], right_on=[\"Date\", \"Year Quarter\"])\n",
    "df_levis = df_profit_levis.merge(df_revenue_levis, how='inner', left_on=[\"Date\", \"Year Quarter\"], right_on=[\"Date\", \"Year Quarter\"])"
   ]
  },
  {
   "cell_type": "code",
   "execution_count": 19,
   "id": "5e4a59db",
   "metadata": {},
   "outputs": [],
   "source": [
    "df_gap.to_excel(os.path.join(os.getcwd(), 'gap-financials.xlsx'), index =False)\n",
    "df_levis.to_excel(os.path.join(os.getcwd(), 'levis-financials.xlsx'), index =False)"
   ]
  },
  {
   "cell_type": "code",
   "execution_count": 20,
   "id": "59a43026",
   "metadata": {},
   "outputs": [],
   "source": [
    "zara_url = 'https://www.macrotrends.net/stocks/charts/IDEXY/industria-de-diseno-textil-sa/{}'\n",
    "r = requests.Session()\n",
    "headers = random.choice(headers_list)\n",
    "r.headers = headers\n",
    "profit_url = zara_url.format('gross-profit')\n",
    "html = r.get(profit_url).text\n",
    "dfs = pd.read_html(html)\n",
    "df_profit_zara = dfs[1]\n",
    "revenue_url = zara_url.format('revenue')\n",
    "html = r.get(revenue_url).text\n",
    "dfs = pd.read_html(html)\n",
    "df_revenue_zara = dfs[1]\n",
    "\n",
    "df_profit_zara.columns = ['Date', 'Profit (in millions)']\n",
    "df_revenue_zara.columns = ['Date', 'Revenue (in millions)']\n",
    "df_profit_zara['Date'] = pd.to_datetime(df_profit_zara['Date'])\n",
    "df_revenue_zara['Date'] = pd.to_datetime(df_revenue_zara['Date'])\n",
    "dates = df_profit_zara['Date']\n",
    "year_quarters = get_year_quarter(dates)\n",
    "df_profit_zara['Year Quarter'] = year_quarters\n",
    "dates = df_revenue_zara['Date']\n",
    "year_quarters = get_year_quarter(dates)\n",
    "df_revenue_zara['Year Quarter'] = year_quarters\n",
    "df_zara = df_profit_zara.merge(df_revenue_zara, how='inner', left_on=[\"Date\", \"Year Quarter\"], right_on=[\"Date\", \"Year Quarter\"])"
   ]
  },
  {
   "cell_type": "code",
   "execution_count": 22,
   "id": "de6cc370",
   "metadata": {},
   "outputs": [],
   "source": [
    "df_zara.to_excel(os.path.join(os.getcwd(), 'zara-financials.xlsx'), index =False)"
   ]
  },
  {
   "cell_type": "code",
   "execution_count": 23,
   "id": "977a471d",
   "metadata": {},
   "outputs": [],
   "source": [
    "hnm_url = 'https://www.macrotrends.net/stocks/charts/HNNMY/hennes-mauritz-ab/{}'\n",
    "r = requests.Session()\n",
    "headers = random.choice(headers_list)\n",
    "r.headers = headers\n",
    "profit_url = hnm_url.format('gross-profit')\n",
    "html = r.get(profit_url).text\n",
    "dfs = pd.read_html(html)\n",
    "df_profit_hnm = dfs[1]\n",
    "revenue_url = hnm_url.format('revenue')\n",
    "html = r.get(revenue_url).text\n",
    "dfs = pd.read_html(html)\n",
    "df_revenue_hnm = dfs[1]\n",
    "\n",
    "df_profit_hnm.columns = ['Date', 'Profit (in millions)']\n",
    "df_revenue_hnm.columns = ['Date', 'Revenue (in millions)']\n",
    "df_profit_hnm['Date'] = pd.to_datetime(df_profit_hnm['Date'])\n",
    "df_revenue_hnm['Date'] = pd.to_datetime(df_revenue_hnm['Date'])\n",
    "dates = df_profit_hnm['Date']\n",
    "year_quarters = get_year_quarter(dates)\n",
    "df_profit_hnm['Year Quarter'] = year_quarters\n",
    "dates = df_revenue_hnm['Date']\n",
    "year_quarters = get_year_quarter(dates)\n",
    "df_revenue_hnm['Year Quarter'] = year_quarters\n",
    "df_hnm = df_profit_hnm.merge(df_revenue_hnm, how='inner', left_on=[\"Date\", \"Year Quarter\"], right_on=[\"Date\", \"Year Quarter\"])"
   ]
  },
  {
   "cell_type": "code",
   "execution_count": 24,
   "id": "738145bd",
   "metadata": {},
   "outputs": [],
   "source": [
    "df_hnm.to_excel(os.path.join(os.getcwd(), 'hnm-financials.xlsx'), index =False)"
   ]
  },
  {
   "cell_type": "code",
   "execution_count": null,
   "id": "7d4a6315",
   "metadata": {},
   "outputs": [],
   "source": []
  }
 ],
 "metadata": {
  "kernelspec": {
   "display_name": "Python 3 (ipykernel)",
   "language": "python",
   "name": "python3"
  },
  "language_info": {
   "codemirror_mode": {
    "name": "ipython",
    "version": 3
   },
   "file_extension": ".py",
   "mimetype": "text/x-python",
   "name": "python",
   "nbconvert_exporter": "python",
   "pygments_lexer": "ipython3",
   "version": "3.11.4"
  }
 },
 "nbformat": 4,
 "nbformat_minor": 5
}
