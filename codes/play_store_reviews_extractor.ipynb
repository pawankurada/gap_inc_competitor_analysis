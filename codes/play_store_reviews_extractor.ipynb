{
 "cells": [
  {
   "cell_type": "code",
   "execution_count": 3,
   "id": "29746fd3",
   "metadata": {},
   "outputs": [],
   "source": [
    "import os\n",
    "import re\n",
    "import pandas as pd\n",
    "import numpy as np\n",
    "import time\n",
    "import random\n",
    "from tqdm import tqdm\n",
    "import PyPDF2\n",
    "import requests\n",
    "import json\n",
    "\n",
    "\n",
    "from selenium import webdriver\n",
    "from selenium.webdriver.firefox.options import Options\n",
    "from selenium.webdriver.common.by import By\n",
    "from selenium.webdriver.support.wait import WebDriverWait\n",
    "from selenium.webdriver.support import expected_conditions as EC\n",
    "from selenium.common.exceptions import NoSuchElementException\n",
    "from selenium.webdriver.firefox.service import Service\n",
    "from webdriver_manager.firefox import GeckoDriverManager\n",
    "from selenium.webdriver.common.action_chains import ActionChains\n",
    "from selenium.webdriver.common.keys import Keys\n",
    "\n",
    " "
   ]
  },
  {
   "cell_type": "code",
   "execution_count": 4,
   "id": "27ad6330",
   "metadata": {},
   "outputs": [
    {
     "name": "stderr",
     "output_type": "stream",
     "text": [
      "C:\\Users\\pawan\\AppData\\Local\\Temp\\ipykernel_19904\\952567057.py:1: DeprecationWarning: Firefox will soon stop logging to geckodriver.log by default; Specify desired logs with log_output\n",
      "  service = Service(GeckoDriverManager().install())\n"
     ]
    }
   ],
   "source": [
    "service = Service(GeckoDriverManager().install())"
   ]
  },
  {
   "cell_type": "code",
   "execution_count": 5,
   "id": "6ab23dd4",
   "metadata": {},
   "outputs": [],
   "source": [
    "headers_list = [\n",
    "    # Firefox 77 Mac\n",
    "    {\n",
    "    \"User-Agent\": \"Mozilla/5.0 (Macintosh; Intel Mac OS X 10.15; rv:77.0) Gecko/20100101 Firefox/77.0\",\n",
    "    \"Accept\": \"text/html,application/xhtml+xml,application/xml;q=0.9,image/webp,*/*;q=0.8\",\n",
    "    \"Accept-Language\": \"en-US,en;q=0.5\",\n",
    "    \"Referer\": \"https://www.google.com/\",\n",
    "    \"DNT\": \"1\",\n",
    "    \"Connection\": \"keep-alive\",\n",
    "    \"Upgrade-Insecure-Requests\": \"1\"\n",
    "    },\n",
    "    # Chrome 92.0 Win10\n",
    "    {\n",
    "    \"User-Agent\": \"Mozilla/5.0 (Windows NT 10.0; Win64; x64) AppleWebKit/537.36 (KHTML, like Gecko) Chrome/92.0.4515.107 Safari/537.36\",\n",
    "    \"Accept\": \"text/html,application/xhtml+xml,application/xml;q=0.9,image/webp,*/*;q=0.8\",\n",
    "    \"Accept-Language\": \"en-US,en;q=0.5\",\n",
    "    \"Accept-Encoding\": \"gzip, deflate, br\",\n",
    "    \"Referer\": \"https://www.google.com/\",\n",
    "    \"DNT\": \"1\",\n",
    "    \"Connection\": \"keep-alive\",\n",
    "    \"Upgrade-Insecure-Requests\": \"1\"\n",
    "    },\n",
    "    # Chrome 91.0 Win10\n",
    "    {\n",
    "    \"Connection\": \"keep-alive\",\n",
    "    \"DNT\": \"1\",\n",
    "    \"Upgrade-Insecure-Requests\": \"1\",\n",
    "    \"User-Agent\": \"Mozilla/5.0 (Windows NT 10.0; Win64; x64) AppleWebKit/537.36 (KHTML, like Gecko) Chrome/91.0.4472.124 Safari/537.36\",\n",
    "    \"Accept\": \"text/html,application/xhtml+xml,application/xml;q=0.9,image/webp,image/apng,*/*;q=0.8,application/signed-exchange;v=b3;q=0.9\",\n",
    "    \"Sec-Fetch-Site\": \"none\",\n",
    "    \"Sec-Fetch-Mode\": \"navigate\",\n",
    "    \"Sec-Fetch-Dest\": \"document\",\n",
    "    \"Referer\": \"https://www.google.com/\",\n",
    "    \"Accept-Encoding\": \"gzip, deflate, br\",\n",
    "    \"Accept-Language\": \"en-GB,en-US;q=0.9,en;q=0.8\"\n",
    "    },\n",
    "    # Firefox 90.0 Win10\n",
    "    {\n",
    "    \"Connection\": \"keep-alive\",\n",
    "    \"Upgrade-Insecure-Requests\": \"1\",\n",
    "    \"User-Agent\": \"Mozilla/5.0 (Windows NT 10.0; Win64; x64; rv:90.0) Gecko/20100101 Firefox/90.0\",\n",
    "    \"Accept\": \"text/html,application/xhtml+xml,application/xml;q=0.9,image/webp,image/apng,*/*;q=0.8,application/signed-exchange;v=b3;q=0.9\",\n",
    "    \"Sec-Fetch-Site\": \"same-origin\",\n",
    "    \"Sec-Fetch-Mode\": \"navigate\",\n",
    "    \"Sec-Fetch-User\": \"?1\",\n",
    "    \"Sec-Fetch-Dest\": \"document\",\n",
    "    \"Referer\": \"https://www.google.com/\",\n",
    "    \"Accept-Encoding\": \"gzip, deflate, br\",\n",
    "    \"Accept-Language\": \"en-US,en;q=0.9\"\n",
    "    }\n",
    "]"
   ]
  },
  {
   "cell_type": "code",
   "execution_count": 6,
   "id": "bd828b92",
   "metadata": {},
   "outputs": [],
   "source": [
    "firefox_options = Options()\n",
    "#firefox_options.add_argument('--headless')\n",
    "firefox_options.add_argument('--no-sandbox')\n",
    "firefox_options.add_argument('--disable-dev-shm-usage')\n",
    "driver = webdriver.Firefox(service=service, options=firefox_options)"
   ]
  },
  {
   "cell_type": "code",
   "execution_count": 7,
   "id": "d078dee9",
   "metadata": {},
   "outputs": [],
   "source": [
    "def scroll_down(url):\n",
    "    global driver\n",
    "    \n",
    "    driver.get(url) \n",
    "    button = driver.find_element(By.XPATH, value ='//button[normalize-space()=\"See all reviews\"]')\n",
    "    button.click()\n",
    "    button2 = driver.find_element(By.ID, 'sortBy_1')\n",
    "    button2.click()\n",
    "    actions = ActionChains(driver)\n",
    "    actions.send_keys(Keys.DOWN).send_keys(Keys.DOWN).send_keys(Keys.ENTER)\n",
    "    actions.perform()\n",
    "    while True:\n",
    "        actions = ActionChains(driver)\n",
    "        actions.send_keys(Keys.DOWN).send_keys(Keys.DOWN).send_keys(Keys.DOWN).send_keys(Keys.DOWN).send_keys(Keys.DOWN).send_keys(Keys.DOWN).send_keys(Keys.DOWN).send_keys(Keys.DOWN).send_keys(Keys.DOWN).send_keys(Keys.DOWN).perform()\n",
    "        "
   ]
  },
  {
   "cell_type": "code",
   "execution_count": null,
   "id": "84dfdf51",
   "metadata": {
    "scrolled": true
   },
   "outputs": [],
   "source": [
    "# Run for each url and then gather the reviews and ratings\n",
    "url = 'https://play.google.com/store/apps/details?id=com.gap.mobile.gap&hl=en_US&gl=US'\n",
    "# url = 'https://play.google.com/store/search?q=banana+republic&c=apps&hl=en_US&gl=US'\n",
    "# url = 'https://play.google.com/store/search?q=old+navy&c=apps&hl=en_US&gl=US'\n",
    "# url = 'https://play.google.com/store/search?q=zara&c=apps&hl=en_US&gl=US'\n",
    "# url = 'https://play.google.com/store/apps/details?id=com.hm.goe'\n",
    "# url = 'https://play.google.com/store/apps/details?id=com.levistrauss.customer&hl=en_US&gl=US'\n",
    "\n",
    "\n",
    " \"\"\"WARNING!!! THE scroll_down FUNCTION RUNS AN INFINITE LOOP. \n",
    "    PLEASE MONITOR THE DRIVER AND INTERRUPT THE KERNEL \n",
    "    MANUALLY UPON REACHING THE END OF REVIEWS PANE\"\"\"\n",
    "scroll_down(url)"
   ]
  },
  {
   "cell_type": "code",
   "execution_count": 9,
   "id": "d489d498",
   "metadata": {
    "scrolled": true
   },
   "outputs": [],
   "source": [
    "# once we scroll to the end of the reviews pane we gather the reviews and ratings\n",
    "reviews = driver.find_elements(By.XPATH, value= \"//div[contains(@class, 'RHo1pe')]\")\n",
    "ratings = driver.find_elements(By.XPATH, value= \"//div[contains(@class, 'iXRFPc')]\")\n",
    "master_data = []\n",
    "for review, rating in zip(reviews, ratings[3:]):\n",
    "    review_eles = review.text.split(\"\\n\")\n",
    "    review_date = review_eles[2]\n",
    "    review_text = review_eles[3]\n",
    "    rating = rating.get_attribute('aria-label')\n",
    "    rating_no = re.findall('\\d{1}', rating)[0]\n",
    "    master_data.append([review_date, review_text, rating_no])"
   ]
  },
  {
   "cell_type": "code",
   "execution_count": 10,
   "id": "1296eb0e",
   "metadata": {},
   "outputs": [
    {
     "data": {
      "text/plain": [
       "160"
      ]
     },
     "execution_count": 10,
     "metadata": {},
     "output_type": "execute_result"
    }
   ],
   "source": [
    "len(reviews)"
   ]
  },
  {
   "cell_type": "code",
   "execution_count": 11,
   "id": "7f8f191c",
   "metadata": {},
   "outputs": [
    {
     "data": {
      "text/plain": [
       "163"
      ]
     },
     "execution_count": 11,
     "metadata": {},
     "output_type": "execute_result"
    }
   ],
   "source": [
    "len(ratings)"
   ]
  },
  {
   "cell_type": "code",
   "execution_count": null,
   "id": "29db83f3",
   "metadata": {},
   "outputs": [],
   "source": []
  }
 ],
 "metadata": {
  "kernelspec": {
   "display_name": "Python 3 (ipykernel)",
   "language": "python",
   "name": "python3"
  },
  "language_info": {
   "codemirror_mode": {
    "name": "ipython",
    "version": 3
   },
   "file_extension": ".py",
   "mimetype": "text/x-python",
   "name": "python",
   "nbconvert_exporter": "python",
   "pygments_lexer": "ipython3",
   "version": "3.11.4"
  }
 },
 "nbformat": 4,
 "nbformat_minor": 5
}
