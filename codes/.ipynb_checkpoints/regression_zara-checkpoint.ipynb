{
 "cells": [
  {
   "cell_type": "code",
   "execution_count": 1,
   "id": "adbfe457",
   "metadata": {},
   "outputs": [],
   "source": [
    "import os\n",
    "import re\n",
    "import pandas as pd\n",
    "import numpy as np\n",
    "\n",
    "import statsmodels.api as sm\n",
    "import warnings\n",
    "import math\n",
    "warnings.filterwarnings(\"ignore\")"
   ]
  },
  {
   "cell_type": "code",
   "execution_count": 2,
   "id": "1e14fbd6",
   "metadata": {},
   "outputs": [],
   "source": [
    "df_zara_reviews = pd.read_csv(os.path.join(os.getcwd(), 'data', 'Reviews_Zara.csv'))\n",
    "df_zara_fin = pd.read_excel(os.path.join(os.getcwd(), 'data', 'zara-year-wise-financials.xlsx'))"
   ]
  },
  {
   "cell_type": "code",
   "execution_count": 4,
   "id": "6b72ca7e",
   "metadata": {
    "scrolled": true
   },
   "outputs": [],
   "source": [
    "df_zara_reviews= df_zara_reviews.groupby('Year').size().reset_index(name='Number of Reviews')"
   ]
  },
  {
   "cell_type": "code",
   "execution_count": 6,
   "id": "3efc7aa2",
   "metadata": {},
   "outputs": [
    {
     "ename": "IndexError",
     "evalue": "index 2 is out of bounds for axis 0 with size 2",
     "output_type": "error",
     "traceback": [
      "\u001b[1;31m---------------------------------------------------------------------------\u001b[0m",
      "\u001b[1;31mIndexError\u001b[0m                                Traceback (most recent call last)",
      "Cell \u001b[1;32mIn[6], line 3\u001b[0m\n\u001b[0;32m      1\u001b[0m \u001b[38;5;66;03m# df_zara.groupby('Year').size().reset_index(name='Rating')\u001b[39;00m\n\u001b[0;32m      2\u001b[0m \u001b[38;5;66;03m# df_zara.groupby(df_zara['Year'])[df_zara['Rating']].mean()\u001b[39;00m\n\u001b[1;32m----> 3\u001b[0m yearly_average_ratings \u001b[38;5;241m=\u001b[39m df_zara_reviews\u001b[38;5;241m.\u001b[39mgroupby(df_zara_reviews\u001b[38;5;241m.\u001b[39mcolumns[\u001b[38;5;241m0\u001b[39m])[df_zara_reviews\u001b[38;5;241m.\u001b[39mcolumns[\u001b[38;5;241m2\u001b[39m]]\u001b[38;5;241m.\u001b[39mmean()\n\u001b[0;32m      4\u001b[0m df_zara_avg_rating \u001b[38;5;241m=\u001b[39m yearly_average_ratings\u001b[38;5;241m.\u001b[39mreset_index()\n\u001b[0;32m      5\u001b[0m df_zara_avg_rating\u001b[38;5;241m.\u001b[39mcolumns \u001b[38;5;241m=\u001b[39m [\u001b[38;5;124m'\u001b[39m\u001b[38;5;124mYear\u001b[39m\u001b[38;5;124m'\u001b[39m, \u001b[38;5;124m'\u001b[39m\u001b[38;5;124mAverage Rating\u001b[39m\u001b[38;5;124m'\u001b[39m]\n",
      "File \u001b[1;32m~\\anaconda3\\Lib\\site-packages\\pandas\\core\\indexes\\base.py:5320\u001b[0m, in \u001b[0;36mIndex.__getitem__\u001b[1;34m(self, key)\u001b[0m\n\u001b[0;32m   5317\u001b[0m \u001b[38;5;28;01mif\u001b[39;00m is_integer(key) \u001b[38;5;129;01mor\u001b[39;00m is_float(key):\n\u001b[0;32m   5318\u001b[0m     \u001b[38;5;66;03m# GH#44051 exclude bool, which would return a 2d ndarray\u001b[39;00m\n\u001b[0;32m   5319\u001b[0m     key \u001b[38;5;241m=\u001b[39m com\u001b[38;5;241m.\u001b[39mcast_scalar_indexer(key, warn_float\u001b[38;5;241m=\u001b[39m\u001b[38;5;28;01mTrue\u001b[39;00m)\n\u001b[1;32m-> 5320\u001b[0m     \u001b[38;5;28;01mreturn\u001b[39;00m getitem(key)\n\u001b[0;32m   5322\u001b[0m \u001b[38;5;28;01mif\u001b[39;00m \u001b[38;5;28misinstance\u001b[39m(key, \u001b[38;5;28mslice\u001b[39m):\n\u001b[0;32m   5323\u001b[0m     \u001b[38;5;66;03m# This case is separated from the conditional above to avoid\u001b[39;00m\n\u001b[0;32m   5324\u001b[0m     \u001b[38;5;66;03m# pessimization com.is_bool_indexer and ndim checks.\u001b[39;00m\n\u001b[0;32m   5325\u001b[0m     result \u001b[38;5;241m=\u001b[39m getitem(key)\n",
      "\u001b[1;31mIndexError\u001b[0m: index 2 is out of bounds for axis 0 with size 2"
     ]
    }
   ],
   "source": [
    "# df_zara.groupby('Year').size().reset_index(name='Rating')\n",
    "# df_zara.groupby(df_zara['Year'])[df_zara['Rating']].mean()\n",
    "yearly_average_ratings = df_zara_reviews.groupby(df_zara_reviews.columns[0])[df_zara_reviews.columns[2]].mean()\n",
    "df_zara_avg_rating = yearly_average_ratings.reset_index()\n",
    "df_zara_avg_rating.columns = ['Year', 'Average Rating']"
   ]
  },
  {
   "cell_type": "code",
   "execution_count": 36,
   "id": "ff240cef",
   "metadata": {},
   "outputs": [],
   "source": [
    "df_zara_data = df_zara_fin.merge(df_zara_reviews, on='Year', how='outer' )"
   ]
  },
  {
   "cell_type": "code",
   "execution_count": 37,
   "id": "1b52bdc8",
   "metadata": {},
   "outputs": [],
   "source": [
    "df_zara_data = df_zara_data.merge(df_zara_avg_rating, on ='Year', how = 'outer')"
   ]
  },
  {
   "cell_type": "code",
   "execution_count": 40,
   "id": "5c45409e",
   "metadata": {},
   "outputs": [],
   "source": [
    "df_zara_data.fillna(0, inplace=True)"
   ]
  },
  {
   "cell_type": "code",
   "execution_count": 45,
   "id": "07eece6b",
   "metadata": {},
   "outputs": [],
   "source": [
    "df_zara_data.drop(index=14, axis=1, inplace=True) "
   ]
  },
  {
   "cell_type": "code",
   "execution_count": 43,
   "id": "b246aefa",
   "metadata": {},
   "outputs": [
    {
     "data": {
      "text/html": [
       "<div>\n",
       "<style scoped>\n",
       "    .dataframe tbody tr th:only-of-type {\n",
       "        vertical-align: middle;\n",
       "    }\n",
       "\n",
       "    .dataframe tbody tr th {\n",
       "        vertical-align: top;\n",
       "    }\n",
       "\n",
       "    .dataframe thead th {\n",
       "        text-align: right;\n",
       "    }\n",
       "</style>\n",
       "<table border=\"1\" class=\"dataframe\">\n",
       "  <thead>\n",
       "    <tr style=\"text-align: right;\">\n",
       "      <th></th>\n",
       "      <th>Year</th>\n",
       "      <th>Zara-Revenue</th>\n",
       "      <th>Number of Reviews</th>\n",
       "      <th>Average Rating</th>\n",
       "    </tr>\n",
       "  </thead>\n",
       "  <tbody>\n",
       "    <tr>\n",
       "      <th>Year</th>\n",
       "      <td>1.000000</td>\n",
       "      <td>0.231127</td>\n",
       "      <td>0.816065</td>\n",
       "      <td>0.508956</td>\n",
       "    </tr>\n",
       "    <tr>\n",
       "      <th>Zara-Revenue</th>\n",
       "      <td>0.231127</td>\n",
       "      <td>1.000000</td>\n",
       "      <td>0.520304</td>\n",
       "      <td>0.390565</td>\n",
       "    </tr>\n",
       "    <tr>\n",
       "      <th>Number of Reviews</th>\n",
       "      <td>0.816065</td>\n",
       "      <td>0.520304</td>\n",
       "      <td>1.000000</td>\n",
       "      <td>0.271047</td>\n",
       "    </tr>\n",
       "    <tr>\n",
       "      <th>Average Rating</th>\n",
       "      <td>0.508956</td>\n",
       "      <td>0.390565</td>\n",
       "      <td>0.271047</td>\n",
       "      <td>1.000000</td>\n",
       "    </tr>\n",
       "  </tbody>\n",
       "</table>\n",
       "</div>"
      ],
      "text/plain": [
       "                       Year  Zara-Revenue  Number of Reviews  Average Rating\n",
       "Year               1.000000      0.231127           0.816065        0.508956\n",
       "Zara-Revenue       0.231127      1.000000           0.520304        0.390565\n",
       "Number of Reviews  0.816065      0.520304           1.000000        0.271047\n",
       "Average Rating     0.508956      0.390565           0.271047        1.000000"
      ]
     },
     "execution_count": 43,
     "metadata": {},
     "output_type": "execute_result"
    }
   ],
   "source": [
    "df_zara_data.corr()"
   ]
  },
  {
   "cell_type": "code",
   "execution_count": 47,
   "id": "6e7fdf86",
   "metadata": {},
   "outputs": [],
   "source": [
    "y = df_zara_data['Zara-Revenue']\n",
    "x = df_zara_data[['Number of Reviews', 'Average Rating']]\n",
    "y = np.log(y)\n",
    "x['Number of Reviews'] = np.log(x['Number of Reviews'] +1)"
   ]
  },
  {
   "cell_type": "code",
   "execution_count": 48,
   "id": "5fa99f74",
   "metadata": {},
   "outputs": [],
   "source": [
    "X= sm.add_constant(x)\n",
    "log_log_reg = sm.OLS(y, X).fit()"
   ]
  },
  {
   "cell_type": "code",
   "execution_count": 49,
   "id": "199c7779",
   "metadata": {
    "scrolled": true
   },
   "outputs": [
    {
     "data": {
      "text/html": [
       "<table class=\"simpletable\">\n",
       "<caption>OLS Regression Results</caption>\n",
       "<tr>\n",
       "  <th>Dep. Variable:</th>      <td>Zara-Revenue</td>   <th>  R-squared:         </th> <td>   0.866</td>\n",
       "</tr>\n",
       "<tr>\n",
       "  <th>Model:</th>                   <td>OLS</td>       <th>  Adj. R-squared:    </th> <td>   0.842</td>\n",
       "</tr>\n",
       "<tr>\n",
       "  <th>Method:</th>             <td>Least Squares</td>  <th>  F-statistic:       </th> <td>   35.69</td>\n",
       "</tr>\n",
       "<tr>\n",
       "  <th>Date:</th>             <td>Tue, 03 Oct 2023</td> <th>  Prob (F-statistic):</th> <td>1.55e-05</td>\n",
       "</tr>\n",
       "<tr>\n",
       "  <th>Time:</th>                 <td>15:50:12</td>     <th>  Log-Likelihood:    </th> <td>  14.465</td>\n",
       "</tr>\n",
       "<tr>\n",
       "  <th>No. Observations:</th>      <td>    14</td>      <th>  AIC:               </th> <td>  -22.93</td>\n",
       "</tr>\n",
       "<tr>\n",
       "  <th>Df Residuals:</th>          <td>    11</td>      <th>  BIC:               </th> <td>  -21.01</td>\n",
       "</tr>\n",
       "<tr>\n",
       "  <th>Df Model:</th>              <td>     2</td>      <th>                     </th>     <td> </td>   \n",
       "</tr>\n",
       "<tr>\n",
       "  <th>Covariance Type:</th>      <td>nonrobust</td>    <th>                     </th>     <td> </td>   \n",
       "</tr>\n",
       "</table>\n",
       "<table class=\"simpletable\">\n",
       "<tr>\n",
       "          <td></td>             <th>coef</th>     <th>std err</th>      <th>t</th>      <th>P>|t|</th>  <th>[0.025</th>    <th>0.975]</th>  \n",
       "</tr>\n",
       "<tr>\n",
       "  <th>const</th>             <td>    9.7236</td> <td>    0.056</td> <td>  174.903</td> <td> 0.000</td> <td>    9.601</td> <td>    9.846</td>\n",
       "</tr>\n",
       "<tr>\n",
       "  <th>Number of Reviews</th> <td>    0.0791</td> <td>    0.014</td> <td>    5.807</td> <td> 0.000</td> <td>    0.049</td> <td>    0.109</td>\n",
       "</tr>\n",
       "<tr>\n",
       "  <th>Average Rating</th>    <td>   -0.0160</td> <td>    0.026</td> <td>   -0.604</td> <td> 0.558</td> <td>   -0.074</td> <td>    0.042</td>\n",
       "</tr>\n",
       "</table>\n",
       "<table class=\"simpletable\">\n",
       "<tr>\n",
       "  <th>Omnibus:</th>       <td> 0.993</td> <th>  Durbin-Watson:     </th> <td>   1.497</td>\n",
       "</tr>\n",
       "<tr>\n",
       "  <th>Prob(Omnibus):</th> <td> 0.609</td> <th>  Jarque-Bera (JB):  </th> <td>   0.718</td>\n",
       "</tr>\n",
       "<tr>\n",
       "  <th>Skew:</th>          <td>-0.145</td> <th>  Prob(JB):          </th> <td>   0.698</td>\n",
       "</tr>\n",
       "<tr>\n",
       "  <th>Kurtosis:</th>      <td> 1.929</td> <th>  Cond. No.          </th> <td>    14.7</td>\n",
       "</tr>\n",
       "</table><br/><br/>Notes:<br/>[1] Standard Errors assume that the covariance matrix of the errors is correctly specified."
      ],
      "text/latex": [
       "\\begin{center}\n",
       "\\begin{tabular}{lclc}\n",
       "\\toprule\n",
       "\\textbf{Dep. Variable:}    &   Zara-Revenue   & \\textbf{  R-squared:         } &     0.866   \\\\\n",
       "\\textbf{Model:}            &       OLS        & \\textbf{  Adj. R-squared:    } &     0.842   \\\\\n",
       "\\textbf{Method:}           &  Least Squares   & \\textbf{  F-statistic:       } &     35.69   \\\\\n",
       "\\textbf{Date:}             & Tue, 03 Oct 2023 & \\textbf{  Prob (F-statistic):} &  1.55e-05   \\\\\n",
       "\\textbf{Time:}             &     15:50:12     & \\textbf{  Log-Likelihood:    } &    14.465   \\\\\n",
       "\\textbf{No. Observations:} &          14      & \\textbf{  AIC:               } &    -22.93   \\\\\n",
       "\\textbf{Df Residuals:}     &          11      & \\textbf{  BIC:               } &    -21.01   \\\\\n",
       "\\textbf{Df Model:}         &           2      & \\textbf{                     } &             \\\\\n",
       "\\textbf{Covariance Type:}  &    nonrobust     & \\textbf{                     } &             \\\\\n",
       "\\bottomrule\n",
       "\\end{tabular}\n",
       "\\begin{tabular}{lcccccc}\n",
       "                           & \\textbf{coef} & \\textbf{std err} & \\textbf{t} & \\textbf{P$> |$t$|$} & \\textbf{[0.025} & \\textbf{0.975]}  \\\\\n",
       "\\midrule\n",
       "\\textbf{const}             &       9.7236  &        0.056     &   174.903  &         0.000        &        9.601    &        9.846     \\\\\n",
       "\\textbf{Number of Reviews} &       0.0791  &        0.014     &     5.807  &         0.000        &        0.049    &        0.109     \\\\\n",
       "\\textbf{Average Rating}    &      -0.0160  &        0.026     &    -0.604  &         0.558        &       -0.074    &        0.042     \\\\\n",
       "\\bottomrule\n",
       "\\end{tabular}\n",
       "\\begin{tabular}{lclc}\n",
       "\\textbf{Omnibus:}       &  0.993 & \\textbf{  Durbin-Watson:     } &    1.497  \\\\\n",
       "\\textbf{Prob(Omnibus):} &  0.609 & \\textbf{  Jarque-Bera (JB):  } &    0.718  \\\\\n",
       "\\textbf{Skew:}          & -0.145 & \\textbf{  Prob(JB):          } &    0.698  \\\\\n",
       "\\textbf{Kurtosis:}      &  1.929 & \\textbf{  Cond. No.          } &     14.7  \\\\\n",
       "\\bottomrule\n",
       "\\end{tabular}\n",
       "%\\caption{OLS Regression Results}\n",
       "\\end{center}\n",
       "\n",
       "Notes: \\newline\n",
       " [1] Standard Errors assume that the covariance matrix of the errors is correctly specified."
      ],
      "text/plain": [
       "<class 'statsmodels.iolib.summary.Summary'>\n",
       "\"\"\"\n",
       "                            OLS Regression Results                            \n",
       "==============================================================================\n",
       "Dep. Variable:           Zara-Revenue   R-squared:                       0.866\n",
       "Model:                            OLS   Adj. R-squared:                  0.842\n",
       "Method:                 Least Squares   F-statistic:                     35.69\n",
       "Date:                Tue, 03 Oct 2023   Prob (F-statistic):           1.55e-05\n",
       "Time:                        15:50:12   Log-Likelihood:                 14.465\n",
       "No. Observations:                  14   AIC:                            -22.93\n",
       "Df Residuals:                      11   BIC:                            -21.01\n",
       "Df Model:                           2                                         \n",
       "Covariance Type:            nonrobust                                         \n",
       "=====================================================================================\n",
       "                        coef    std err          t      P>|t|      [0.025      0.975]\n",
       "-------------------------------------------------------------------------------------\n",
       "const                 9.7236      0.056    174.903      0.000       9.601       9.846\n",
       "Number of Reviews     0.0791      0.014      5.807      0.000       0.049       0.109\n",
       "Average Rating       -0.0160      0.026     -0.604      0.558      -0.074       0.042\n",
       "==============================================================================\n",
       "Omnibus:                        0.993   Durbin-Watson:                   1.497\n",
       "Prob(Omnibus):                  0.609   Jarque-Bera (JB):                0.718\n",
       "Skew:                          -0.145   Prob(JB):                        0.698\n",
       "Kurtosis:                       1.929   Cond. No.                         14.7\n",
       "==============================================================================\n",
       "\n",
       "Notes:\n",
       "[1] Standard Errors assume that the covariance matrix of the errors is correctly specified.\n",
       "\"\"\""
      ]
     },
     "execution_count": 49,
     "metadata": {},
     "output_type": "execute_result"
    }
   ],
   "source": [
    "log_log_reg.summary()"
   ]
  },
  {
   "cell_type": "code",
   "execution_count": null,
   "id": "ec018dd4",
   "metadata": {},
   "outputs": [],
   "source": []
  }
 ],
 "metadata": {
  "kernelspec": {
   "display_name": "Python 3 (ipykernel)",
   "language": "python",
   "name": "python3"
  },
  "language_info": {
   "codemirror_mode": {
    "name": "ipython",
    "version": 3
   },
   "file_extension": ".py",
   "mimetype": "text/x-python",
   "name": "python",
   "nbconvert_exporter": "python",
   "pygments_lexer": "ipython3",
   "version": "3.11.4"
  }
 },
 "nbformat": 4,
 "nbformat_minor": 5
}
