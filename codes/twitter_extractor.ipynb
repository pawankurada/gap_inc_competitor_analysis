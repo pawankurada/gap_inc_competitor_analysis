{
 "cells": [
  {
   "cell_type": "code",
   "execution_count": 9,
   "id": "d8c08979",
   "metadata": {},
   "outputs": [],
   "source": [
    "import requests\n",
    "import pandas as pd\n"
   ]
  },
  {
   "cell_type": "code",
   "execution_count": 10,
   "id": "51f8822f",
   "metadata": {},
   "outputs": [],
   "source": [
    "twitter_data = []\n"
   ]
  },
  {
   "cell_type": "code",
   "execution_count": 11,
   "id": "1b61b466",
   "metadata": {},
   "outputs": [],
   "source": [
    "api_key = 'insert your api key'"
   ]
  },
  {
   "cell_type": "code",
   "execution_count": 12,
   "id": "52344ffa",
   "metadata": {},
   "outputs": [],
   "source": [
    "query = 'GAP clothing OR GAP style OR fashion (good OR nice OR excellent)'\n",
    "start_date = '2006-01-01'\n",
    "end_date = '2020-12-31'\n",
    "batch_size = 50 \n",
    "total_results = 500"
   ]
  },
  {
   "cell_type": "code",
   "execution_count": 13,
   "id": "1b58be64",
   "metadata": {},
   "outputs": [],
   "source": [
    "all_results = []"
   ]
  },
  {
   "cell_type": "code",
   "execution_count": 14,
   "id": "b201042a",
   "metadata": {},
   "outputs": [],
   "source": [
    "num_batches = total_results // batch_size\n",
    "\n",
    "for batch in range(num_batches):\n",
    "  \n",
    "    start_position = batch * batch_size\n",
    "    end_position = start_position + batch_size"
   ]
  },
  {
   "cell_type": "code",
   "execution_count": 15,
   "id": "b71e9bcc",
   "metadata": {},
   "outputs": [],
   "source": [
    " payload = {\n",
    "        'api_key': api_key,\n",
    "        'query': query,\n",
    "        'num': batch_size,\n",
    "        'start_date': start_date,\n",
    "        'end_date': end_date,\n",
    "        'start': start_position  \n",
    "    }\n",
    "response = requests.get(\n",
    "    'https://api.scraperapi.com/structured/twitter/search',params=payload)\n",
    "data = response.json()"
   ]
  },
  {
   "cell_type": "code",
   "execution_count": 16,
   "id": "e1ed1990",
   "metadata": {
    "scrolled": true
   },
   "outputs": [
    {
     "data": {
      "text/plain": [
       "dict_keys(['search_information', 'organic_results', 'related_searches', 'pagination'])"
      ]
     },
     "execution_count": 16,
     "metadata": {},
     "output_type": "execute_result"
    }
   ],
   "source": [
    "data.keys()"
   ]
  },
  {
   "cell_type": "code",
   "execution_count": 17,
   "id": "544a49af",
   "metadata": {},
   "outputs": [
    {
     "name": "stdout",
     "output_type": "stream",
     "text": [
      "Saved all comments to CSV.\n"
     ]
    }
   ],
   "source": [
    "if 'organic_results' in data:\n",
    "        search_results = data['organic_results']\n",
    "        df = pd.DataFrame(search_results)\n",
    "        if batch == 0:\n",
    "            df.to_csv('twitter_comments_2006_to_2020.csv', index=False)\n",
    "        else:\n",
    "            df.to_csv('twitter_comments_2006_to_2020.csv', index=False, mode='a', header=False)\n",
    "\n",
    "print(f'Saved all comments to CSV.')"
   ]
  },
  {
   "cell_type": "code",
   "execution_count": null,
   "id": "321befca",
   "metadata": {},
   "outputs": [],
   "source": []
  }
 ],
 "metadata": {
  "kernelspec": {
   "display_name": "Python 3 (ipykernel)",
   "language": "python",
   "name": "python3"
  },
  "language_info": {
   "codemirror_mode": {
    "name": "ipython",
    "version": 3
   },
   "file_extension": ".py",
   "mimetype": "text/x-python",
   "name": "python",
   "nbconvert_exporter": "python",
   "pygments_lexer": "ipython3",
   "version": "3.11.4"
  }
 },
 "nbformat": 4,
 "nbformat_minor": 5
}
