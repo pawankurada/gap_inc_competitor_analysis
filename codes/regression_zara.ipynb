{
 "cells": [
  {
   "cell_type": "code",
   "execution_count": 26,
   "id": "adbfe457",
   "metadata": {},
   "outputs": [],
   "source": [
    "import os\n",
    "import re\n",
    "import pandas as pd\n",
    "import numpy as np\n",
    "\n",
    "import statsmodels.api as sm\n",
    "import warnings\n",
    "import math\n",
    "from textblob import TextBlob\n",
    "warnings.filterwarnings(\"ignore\")"
   ]
  },
  {
   "cell_type": "code",
   "execution_count": 12,
   "id": "1e14fbd6",
   "metadata": {},
   "outputs": [],
   "source": [
    "df_zara = pd.read_csv(os.path.join(os.getcwd(), 'data', 'Reviews_Zara.csv'))\n",
    "df_zara_fin = pd.read_excel(os.path.join(os.getcwd(), 'data', 'zara-year-wise-financials.xlsx'))"
   ]
  },
  {
   "cell_type": "code",
   "execution_count": 9,
   "id": "6b72ca7e",
   "metadata": {
    "scrolled": true
   },
   "outputs": [],
   "source": [
    "df_zara_reviews= df_zara.groupby('Year').size().reset_index(name='Number of Reviews')"
   ]
  },
  {
   "cell_type": "code",
   "execution_count": 10,
   "id": "5bbf2be6",
   "metadata": {},
   "outputs": [
    {
     "data": {
      "text/html": [
       "<div>\n",
       "<style scoped>\n",
       "    .dataframe tbody tr th:only-of-type {\n",
       "        vertical-align: middle;\n",
       "    }\n",
       "\n",
       "    .dataframe tbody tr th {\n",
       "        vertical-align: top;\n",
       "    }\n",
       "\n",
       "    .dataframe thead th {\n",
       "        text-align: right;\n",
       "    }\n",
       "</style>\n",
       "<table border=\"1\" class=\"dataframe\">\n",
       "  <thead>\n",
       "    <tr style=\"text-align: right;\">\n",
       "      <th></th>\n",
       "      <th>Year</th>\n",
       "      <th>Number of Reviews</th>\n",
       "    </tr>\n",
       "  </thead>\n",
       "  <tbody>\n",
       "    <tr>\n",
       "      <th>0</th>\n",
       "      <td>2012</td>\n",
       "      <td>9</td>\n",
       "    </tr>\n",
       "    <tr>\n",
       "      <th>1</th>\n",
       "      <td>2013</td>\n",
       "      <td>128</td>\n",
       "    </tr>\n",
       "    <tr>\n",
       "      <th>2</th>\n",
       "      <td>2014</td>\n",
       "      <td>283</td>\n",
       "    </tr>\n",
       "    <tr>\n",
       "      <th>3</th>\n",
       "      <td>2015</td>\n",
       "      <td>326</td>\n",
       "    </tr>\n",
       "    <tr>\n",
       "      <th>4</th>\n",
       "      <td>2016</td>\n",
       "      <td>571</td>\n",
       "    </tr>\n",
       "    <tr>\n",
       "      <th>5</th>\n",
       "      <td>2017</td>\n",
       "      <td>1244</td>\n",
       "    </tr>\n",
       "    <tr>\n",
       "      <th>6</th>\n",
       "      <td>2018</td>\n",
       "      <td>1381</td>\n",
       "    </tr>\n",
       "    <tr>\n",
       "      <th>7</th>\n",
       "      <td>2019</td>\n",
       "      <td>1695</td>\n",
       "    </tr>\n",
       "    <tr>\n",
       "      <th>8</th>\n",
       "      <td>2020</td>\n",
       "      <td>2931</td>\n",
       "    </tr>\n",
       "    <tr>\n",
       "      <th>9</th>\n",
       "      <td>2021</td>\n",
       "      <td>3297</td>\n",
       "    </tr>\n",
       "    <tr>\n",
       "      <th>10</th>\n",
       "      <td>2022</td>\n",
       "      <td>2394</td>\n",
       "    </tr>\n",
       "    <tr>\n",
       "      <th>11</th>\n",
       "      <td>2023</td>\n",
       "      <td>974</td>\n",
       "    </tr>\n",
       "  </tbody>\n",
       "</table>\n",
       "</div>"
      ],
      "text/plain": [
       "    Year  Number of Reviews\n",
       "0   2012                  9\n",
       "1   2013                128\n",
       "2   2014                283\n",
       "3   2015                326\n",
       "4   2016                571\n",
       "5   2017               1244\n",
       "6   2018               1381\n",
       "7   2019               1695\n",
       "8   2020               2931\n",
       "9   2021               3297\n",
       "10  2022               2394\n",
       "11  2023                974"
      ]
     },
     "execution_count": 10,
     "metadata": {},
     "output_type": "execute_result"
    }
   ],
   "source": [
    "df_zara_reviews"
   ]
  },
  {
   "cell_type": "code",
   "execution_count": 14,
   "id": "3efc7aa2",
   "metadata": {},
   "outputs": [],
   "source": [
    "yearly_average_ratings = df_zara.groupby(df_zara.columns[0])[df_zara.columns[2]].mean()\n",
    "df_zara_avg_rating = yearly_average_ratings.reset_index()\n",
    "df_zara_avg_rating.columns = ['Year', 'Average Rating']"
   ]
  },
  {
   "cell_type": "code",
   "execution_count": 15,
   "id": "ff240cef",
   "metadata": {},
   "outputs": [],
   "source": [
    "df_zara_data = df_zara_fin.merge(df_zara_reviews, on='Year', how='outer' )"
   ]
  },
  {
   "cell_type": "code",
   "execution_count": 16,
   "id": "1b52bdc8",
   "metadata": {},
   "outputs": [],
   "source": [
    "df_zara_data = df_zara_data.merge(df_zara_avg_rating, on ='Year', how = 'outer')"
   ]
  },
  {
   "cell_type": "code",
   "execution_count": 17,
   "id": "5c45409e",
   "metadata": {},
   "outputs": [],
   "source": [
    "df_zara_data.fillna(0, inplace=True)"
   ]
  },
  {
   "cell_type": "code",
   "execution_count": 18,
   "id": "07eece6b",
   "metadata": {},
   "outputs": [],
   "source": [
    "df_zara_data.drop(index=14, axis=1, inplace=True) "
   ]
  },
  {
   "cell_type": "code",
   "execution_count": 19,
   "id": "b246aefa",
   "metadata": {},
   "outputs": [
    {
     "data": {
      "text/html": [
       "<div>\n",
       "<style scoped>\n",
       "    .dataframe tbody tr th:only-of-type {\n",
       "        vertical-align: middle;\n",
       "    }\n",
       "\n",
       "    .dataframe tbody tr th {\n",
       "        vertical-align: top;\n",
       "    }\n",
       "\n",
       "    .dataframe thead th {\n",
       "        text-align: right;\n",
       "    }\n",
       "</style>\n",
       "<table border=\"1\" class=\"dataframe\">\n",
       "  <thead>\n",
       "    <tr style=\"text-align: right;\">\n",
       "      <th></th>\n",
       "      <th>Year</th>\n",
       "      <th>Zara-Revenue</th>\n",
       "      <th>Number of Reviews</th>\n",
       "      <th>Average Rating</th>\n",
       "    </tr>\n",
       "  </thead>\n",
       "  <tbody>\n",
       "    <tr>\n",
       "      <th>Year</th>\n",
       "      <td>1.000000</td>\n",
       "      <td>0.945399</td>\n",
       "      <td>0.910324</td>\n",
       "      <td>0.556596</td>\n",
       "    </tr>\n",
       "    <tr>\n",
       "      <th>Zara-Revenue</th>\n",
       "      <td>0.945399</td>\n",
       "      <td>1.000000</td>\n",
       "      <td>0.782407</td>\n",
       "      <td>0.615751</td>\n",
       "    </tr>\n",
       "    <tr>\n",
       "      <th>Number of Reviews</th>\n",
       "      <td>0.910324</td>\n",
       "      <td>0.782407</td>\n",
       "      <td>1.000000</td>\n",
       "      <td>0.271274</td>\n",
       "    </tr>\n",
       "    <tr>\n",
       "      <th>Average Rating</th>\n",
       "      <td>0.556596</td>\n",
       "      <td>0.615751</td>\n",
       "      <td>0.271274</td>\n",
       "      <td>1.000000</td>\n",
       "    </tr>\n",
       "  </tbody>\n",
       "</table>\n",
       "</div>"
      ],
      "text/plain": [
       "                       Year  Zara-Revenue  Number of Reviews  Average Rating\n",
       "Year               1.000000      0.945399           0.910324        0.556596\n",
       "Zara-Revenue       0.945399      1.000000           0.782407        0.615751\n",
       "Number of Reviews  0.910324      0.782407           1.000000        0.271274\n",
       "Average Rating     0.556596      0.615751           0.271274        1.000000"
      ]
     },
     "execution_count": 19,
     "metadata": {},
     "output_type": "execute_result"
    }
   ],
   "source": [
    "df_zara_data.corr()"
   ]
  },
  {
   "cell_type": "code",
   "execution_count": 20,
   "id": "6e7fdf86",
   "metadata": {},
   "outputs": [],
   "source": [
    "y = df_zara_data['Zara-Revenue']\n",
    "x = df_zara_data[['Number of Reviews', 'Average Rating']]\n",
    "y = np.log(y)\n",
    "x['Number of Reviews'] = np.log(x['Number of Reviews'] +1)"
   ]
  },
  {
   "cell_type": "code",
   "execution_count": 21,
   "id": "5fa99f74",
   "metadata": {},
   "outputs": [],
   "source": [
    "X= sm.add_constant(x)\n",
    "log_log_reg = sm.OLS(y, X).fit()"
   ]
  },
  {
   "cell_type": "code",
   "execution_count": 22,
   "id": "199c7779",
   "metadata": {
    "scrolled": true
   },
   "outputs": [
    {
     "data": {
      "text/html": [
       "<table class=\"simpletable\">\n",
       "<caption>OLS Regression Results</caption>\n",
       "<tr>\n",
       "  <th>Dep. Variable:</th>      <td>Zara-Revenue</td>   <th>  R-squared:         </th> <td>   0.866</td>\n",
       "</tr>\n",
       "<tr>\n",
       "  <th>Model:</th>                   <td>OLS</td>       <th>  Adj. R-squared:    </th> <td>   0.842</td>\n",
       "</tr>\n",
       "<tr>\n",
       "  <th>Method:</th>             <td>Least Squares</td>  <th>  F-statistic:       </th> <td>   35.69</td>\n",
       "</tr>\n",
       "<tr>\n",
       "  <th>Date:</th>             <td>Tue, 03 Oct 2023</td> <th>  Prob (F-statistic):</th> <td>1.55e-05</td>\n",
       "</tr>\n",
       "<tr>\n",
       "  <th>Time:</th>                 <td>18:14:03</td>     <th>  Log-Likelihood:    </th> <td>  14.465</td>\n",
       "</tr>\n",
       "<tr>\n",
       "  <th>No. Observations:</th>      <td>    14</td>      <th>  AIC:               </th> <td>  -22.93</td>\n",
       "</tr>\n",
       "<tr>\n",
       "  <th>Df Residuals:</th>          <td>    11</td>      <th>  BIC:               </th> <td>  -21.01</td>\n",
       "</tr>\n",
       "<tr>\n",
       "  <th>Df Model:</th>              <td>     2</td>      <th>                     </th>     <td> </td>   \n",
       "</tr>\n",
       "<tr>\n",
       "  <th>Covariance Type:</th>      <td>nonrobust</td>    <th>                     </th>     <td> </td>   \n",
       "</tr>\n",
       "</table>\n",
       "<table class=\"simpletable\">\n",
       "<tr>\n",
       "          <td></td>             <th>coef</th>     <th>std err</th>      <th>t</th>      <th>P>|t|</th>  <th>[0.025</th>    <th>0.975]</th>  \n",
       "</tr>\n",
       "<tr>\n",
       "  <th>const</th>             <td>    9.7236</td> <td>    0.056</td> <td>  174.903</td> <td> 0.000</td> <td>    9.601</td> <td>    9.846</td>\n",
       "</tr>\n",
       "<tr>\n",
       "  <th>Number of Reviews</th> <td>    0.0791</td> <td>    0.014</td> <td>    5.807</td> <td> 0.000</td> <td>    0.049</td> <td>    0.109</td>\n",
       "</tr>\n",
       "<tr>\n",
       "  <th>Average Rating</th>    <td>   -0.0160</td> <td>    0.026</td> <td>   -0.604</td> <td> 0.558</td> <td>   -0.074</td> <td>    0.042</td>\n",
       "</tr>\n",
       "</table>\n",
       "<table class=\"simpletable\">\n",
       "<tr>\n",
       "  <th>Omnibus:</th>       <td> 0.993</td> <th>  Durbin-Watson:     </th> <td>   1.497</td>\n",
       "</tr>\n",
       "<tr>\n",
       "  <th>Prob(Omnibus):</th> <td> 0.609</td> <th>  Jarque-Bera (JB):  </th> <td>   0.718</td>\n",
       "</tr>\n",
       "<tr>\n",
       "  <th>Skew:</th>          <td>-0.145</td> <th>  Prob(JB):          </th> <td>   0.698</td>\n",
       "</tr>\n",
       "<tr>\n",
       "  <th>Kurtosis:</th>      <td> 1.929</td> <th>  Cond. No.          </th> <td>    14.7</td>\n",
       "</tr>\n",
       "</table><br/><br/>Notes:<br/>[1] Standard Errors assume that the covariance matrix of the errors is correctly specified."
      ],
      "text/latex": [
       "\\begin{center}\n",
       "\\begin{tabular}{lclc}\n",
       "\\toprule\n",
       "\\textbf{Dep. Variable:}    &   Zara-Revenue   & \\textbf{  R-squared:         } &     0.866   \\\\\n",
       "\\textbf{Model:}            &       OLS        & \\textbf{  Adj. R-squared:    } &     0.842   \\\\\n",
       "\\textbf{Method:}           &  Least Squares   & \\textbf{  F-statistic:       } &     35.69   \\\\\n",
       "\\textbf{Date:}             & Tue, 03 Oct 2023 & \\textbf{  Prob (F-statistic):} &  1.55e-05   \\\\\n",
       "\\textbf{Time:}             &     18:14:03     & \\textbf{  Log-Likelihood:    } &    14.465   \\\\\n",
       "\\textbf{No. Observations:} &          14      & \\textbf{  AIC:               } &    -22.93   \\\\\n",
       "\\textbf{Df Residuals:}     &          11      & \\textbf{  BIC:               } &    -21.01   \\\\\n",
       "\\textbf{Df Model:}         &           2      & \\textbf{                     } &             \\\\\n",
       "\\textbf{Covariance Type:}  &    nonrobust     & \\textbf{                     } &             \\\\\n",
       "\\bottomrule\n",
       "\\end{tabular}\n",
       "\\begin{tabular}{lcccccc}\n",
       "                           & \\textbf{coef} & \\textbf{std err} & \\textbf{t} & \\textbf{P$> |$t$|$} & \\textbf{[0.025} & \\textbf{0.975]}  \\\\\n",
       "\\midrule\n",
       "\\textbf{const}             &       9.7236  &        0.056     &   174.903  &         0.000        &        9.601    &        9.846     \\\\\n",
       "\\textbf{Number of Reviews} &       0.0791  &        0.014     &     5.807  &         0.000        &        0.049    &        0.109     \\\\\n",
       "\\textbf{Average Rating}    &      -0.0160  &        0.026     &    -0.604  &         0.558        &       -0.074    &        0.042     \\\\\n",
       "\\bottomrule\n",
       "\\end{tabular}\n",
       "\\begin{tabular}{lclc}\n",
       "\\textbf{Omnibus:}       &  0.993 & \\textbf{  Durbin-Watson:     } &    1.497  \\\\\n",
       "\\textbf{Prob(Omnibus):} &  0.609 & \\textbf{  Jarque-Bera (JB):  } &    0.718  \\\\\n",
       "\\textbf{Skew:}          & -0.145 & \\textbf{  Prob(JB):          } &    0.698  \\\\\n",
       "\\textbf{Kurtosis:}      &  1.929 & \\textbf{  Cond. No.          } &     14.7  \\\\\n",
       "\\bottomrule\n",
       "\\end{tabular}\n",
       "%\\caption{OLS Regression Results}\n",
       "\\end{center}\n",
       "\n",
       "Notes: \\newline\n",
       " [1] Standard Errors assume that the covariance matrix of the errors is correctly specified."
      ],
      "text/plain": [
       "<class 'statsmodels.iolib.summary.Summary'>\n",
       "\"\"\"\n",
       "                            OLS Regression Results                            \n",
       "==============================================================================\n",
       "Dep. Variable:           Zara-Revenue   R-squared:                       0.866\n",
       "Model:                            OLS   Adj. R-squared:                  0.842\n",
       "Method:                 Least Squares   F-statistic:                     35.69\n",
       "Date:                Tue, 03 Oct 2023   Prob (F-statistic):           1.55e-05\n",
       "Time:                        18:14:03   Log-Likelihood:                 14.465\n",
       "No. Observations:                  14   AIC:                            -22.93\n",
       "Df Residuals:                      11   BIC:                            -21.01\n",
       "Df Model:                           2                                         \n",
       "Covariance Type:            nonrobust                                         \n",
       "=====================================================================================\n",
       "                        coef    std err          t      P>|t|      [0.025      0.975]\n",
       "-------------------------------------------------------------------------------------\n",
       "const                 9.7236      0.056    174.903      0.000       9.601       9.846\n",
       "Number of Reviews     0.0791      0.014      5.807      0.000       0.049       0.109\n",
       "Average Rating       -0.0160      0.026     -0.604      0.558      -0.074       0.042\n",
       "==============================================================================\n",
       "Omnibus:                        0.993   Durbin-Watson:                   1.497\n",
       "Prob(Omnibus):                  0.609   Jarque-Bera (JB):                0.718\n",
       "Skew:                          -0.145   Prob(JB):                        0.698\n",
       "Kurtosis:                       1.929   Cond. No.                         14.7\n",
       "==============================================================================\n",
       "\n",
       "Notes:\n",
       "[1] Standard Errors assume that the covariance matrix of the errors is correctly specified.\n",
       "\"\"\""
      ]
     },
     "execution_count": 22,
     "metadata": {},
     "output_type": "execute_result"
    }
   ],
   "source": [
    "log_log_reg.summary()"
   ]
  },
  {
   "cell_type": "code",
   "execution_count": 34,
   "id": "0c70bfc3",
   "metadata": {},
   "outputs": [],
   "source": [
    "df_zara_data.to_excel(os.path.join(os.getcwd(), 'zara-data.xlsx'), index = False)"
   ]
  },
  {
   "cell_type": "code",
   "execution_count": null,
   "id": "4bb3b77b",
   "metadata": {},
   "outputs": [],
   "source": []
  }
 ],
 "metadata": {
  "kernelspec": {
   "display_name": "Python 3 (ipykernel)",
   "language": "python",
   "name": "python3"
  },
  "language_info": {
   "codemirror_mode": {
    "name": "ipython",
    "version": 3
   },
   "file_extension": ".py",
   "mimetype": "text/x-python",
   "name": "python",
   "nbconvert_exporter": "python",
   "pygments_lexer": "ipython3",
   "version": "3.11.4"
  }
 },
 "nbformat": 4,
 "nbformat_minor": 5
}
